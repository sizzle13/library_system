{
 "cells": [
  {
   "cell_type": "markdown",
   "metadata": {},
   "source": [
    "> ### Harry works in the library, Harry is tired of writing data in paper records so Harry decides to go digital.\n",
    "> ### Harry wants a program to do all the operations in the library.\n",
    "> ### Let's help Harry!"
   ]
  },
  {
   "cell_type": "code",
   "execution_count": null,
   "metadata": {},
   "outputs": [],
   "source": []
  },
  {
   "cell_type": "markdown",
   "metadata": {},
   "source": [
    "# Task 1 : \n",
    "- #### task 1.1 Make Class(Library) with attributes:\n",
    "    - booksList  \n",
    "    - name of lirary  \n",
    "    - lended books (name of user, book) \n",
    "- #### task 1.2 Make method to display available Books.\n",
    "- #### task 1.3 Make method for books lending.\n",
    "    - Don't forget to check if book isn't already lended \n",
    "- #### task 1.4 Make method to add Book to library.\n",
    "- #### task 1.5 Make method to return borrowed book."
   ]
  },
  {
   "cell_type": "code",
   "execution_count": 1,
   "metadata": {},
   "outputs": [],
   "source": [
    "class Library:\n",
    "    \n",
    "    def __init__(self, name, books_list):\n",
    "        self.name = name\n",
    "        self.books_list = books_list\n",
    "        self.lended_book = {}\n",
    "    \n",
    "    def available_books(self):\n",
    "        \n",
    "        print(f\"The available books are {self.books_list}\")\n",
    "        \n",
    "    def lend_books(self, book, user_name):\n",
    "        if book in self.books_list:\n",
    "            self.books_list.remove(book)\n",
    "            self.lended_book[book] = user_name\n",
    "            print(f\"You have borrowed {book} book successfully! Please return it after 14 days.\")\n",
    "            print()\n",
    "            print(f\"The list of lended books: {self.lended_book}\")\n",
    "            self.available_books()\n",
    "\n",
    "        else:\n",
    "            print(\"This book isn't available at the moment in the library\")\n",
    "            \n",
    "    def add_books(self, book):\n",
    "        self.books_list.append(book)\n",
    "        print(f\"{book} book was added successfully to the library!\\n\")\n",
    "        self.available_books()\n",
    "              \n",
    "    def return_borrowed_book(self, book):    \n",
    "        if book in self.lended_book:\n",
    "            self.lended_book.pop(book)\n",
    "            self.books_list.append(book)\n",
    "            print(f\"Thank you for returning {book} book in time!\\n\")\n",
    "            self.available_books()\n",
    "\n",
    "        else:\n",
    "            print(\"This book was already returned\")\n",
    "            \n"
   ]
  },
  {
   "cell_type": "markdown",
   "metadata": {},
   "source": [
    "# Task 2 : \n",
    "- #### task 2.1 Make object(Harry) with attributes:\n",
    "    - booksList  = ['Python', 'Rich Daddy Poor Daddy', 'Harry Potter', 'C++ Basics', 'Algorithms by CLRS']\n",
    "    - name of lirary  = \"CodeWithHarry\"\n",
    "- #### task 2.2 Make program run with this choices. __(Don't forget the welcome message)__\n",
    "    - 1. Display Books\n",
    "    - 2. Lend a Book\n",
    "    - 3. Add a Book\n",
    "    - 4. Return a Book\n",
    "- #### task 2.3 Make prgram ends or continue."
   ]
  },
  {
   "cell_type": "code",
   "execution_count": 8,
   "metadata": {},
   "outputs": [
    {
     "name": "stdout",
     "output_type": "stream",
     "text": [
      "Welcome to CodeWithHarry library!\n",
      "\n",
      "Please enter your name: shahoda\n",
      "\n",
      "Please choose a number of the following options: \n",
      "1- Display books\n",
      "2- Lend a book \n",
      "3- Add a book \n",
      "4- Return a book\n",
      "5\n",
      "Please enter a number from 1 to 4 only: \n",
      "\n",
      "\n",
      "Would you like to make another choice? y/n no\n",
      "\n",
      "See you again!\n"
     ]
    }
   ],
   "source": [
    "while True:\n",
    "    \n",
    "    harry = Library(\"CodeWithHarry\", ['Rich Daddy Poor Daddy', 'Harry Potter', 'C++ Basics', 'Algorithms by CLRS'])\n",
    "\n",
    "    print(\"Welcome to CodeWithHarry library!\")\n",
    "    print()\n",
    "    \n",
    "    name = input(\"Please enter your name: \")\n",
    "    print()\n",
    "\n",
    "    print(\"Please choose a number of the following options: \")\n",
    "\n",
    "    try:\n",
    "        choice = int(float(input(\"1- Display books\\n2- Lend a book \\n3- Add a book \\n4- Return a book\\n\")))\n",
    "    except ValueError: \n",
    "        choice = input(\"Please eneter a numeric value from 1 to 4: \")\n",
    "    \n",
    "    if choice not in [1, 2, 3 ,4]:\n",
    "        print(\"Please enter a number from 1 to 4 only: \\n\")\n",
    "        continue\n",
    "        \n",
    "    else:\n",
    "        if choice == 1:\n",
    "            \n",
    "            harry.available_books()\n",
    "            \n",
    "        elif choice == 2:\n",
    "            \n",
    "            book = input(\"Please enter the book name you want to borrow: \")\n",
    "            print()\n",
    "            harry.lend_books(book, name)\n",
    "\n",
    "        elif choice == 3:\n",
    "            \n",
    "            book = input(\"Please enter the book name you want to add: \")\n",
    "            print()           \n",
    "            harry.add_books(book)\n",
    "                        \n",
    "        elif choice == 4: \n",
    "            \n",
    "            book = input(\"Please enter the book name you want to return: \")\n",
    "            print()\n",
    "            harry.return_borrowed_book(book)\n",
    "\n",
    "    print()\n",
    "    answer = input(\"Would you like to make another choice? y/n \")\n",
    "    print()\n",
    "    \n",
    "    if answer in [\"N\", 'n', \"No\", \"no\"]:\n",
    "            print(\"See you again!\")\n",
    "            break\n"
   ]
  }
 ],
 "metadata": {
  "kernelspec": {
   "display_name": "Python 3",
   "language": "python",
   "name": "python3"
  },
  "language_info": {
   "codemirror_mode": {
    "name": "ipython",
    "version": 3
   },
   "file_extension": ".py",
   "mimetype": "text/x-python",
   "name": "python",
   "nbconvert_exporter": "python",
   "pygments_lexer": "ipython3",
   "version": "3.7.6"
  }
 },
 "nbformat": 4,
 "nbformat_minor": 4
}
